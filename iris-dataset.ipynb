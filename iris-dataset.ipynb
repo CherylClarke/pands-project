{
 "cells": [
  {
   "cell_type": "code",
   "execution_count": null,
   "id": "da1ac0f8",
   "metadata": {
    "vscode": {
     "languageId": "plaintext"
    }
   },
   "outputs": [],
   "source": [
    "fkfkf"
   ]
  }
 ],
 "metadata": {
  "language_info": {
   "name": "python"
  }
 },
 "nbformat": 4,
 "nbformat_minor": 5
}
